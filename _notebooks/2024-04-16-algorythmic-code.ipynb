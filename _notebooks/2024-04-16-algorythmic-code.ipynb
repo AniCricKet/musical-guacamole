{
 "cells": [
  {
   "cell_type": "markdown",
   "metadata": {},
   "source": [
    "---\n",
    "toc: true\n",
    "comments: true\n",
    "title: Algorythmic Code Prep\n",
    "courses: { csp: {week: 26} }\n",
    "type: hacks\n",
    "description: Code for different sorting algorithms\n",
    "layout: post\n",
    "permalink: /algocodeprep\n",
    "---"
   ]
  }
 ],
 "metadata": {
  "language_info": {
   "name": "python"
  }
 },
 "nbformat": 4,
 "nbformat_minor": 2
}

{
 "cells": [
  {
   "attachments": {},
   "cell_type": "markdown",
   "metadata": {},
   "source": [
    "---\n",
    "toc: true\n",
    "comments: true\n",
    "layout: post\n",
    "title: Unit 5 Lesson HACKS\n",
    "description: Hacks for APCSA Unit 5 \n",
    "courses: { csa: {week: 9} }\n",
    "type: hacks\n",
    "---"
   ]
  },
  {
   "attachments": {},
   "cell_type": "markdown",
   "metadata": {},
   "source": [
    "# Hacks"
   ]
  },
  {
   "attachments": {},
   "cell_type": "markdown",
   "metadata": {},
   "source": [
    "**5.1-5.3 Hacks**\n",
    "\n",
    "**POPCORN HACKS: 0.2**\n",
    "\n",
    "**Create a simple To-Do List that utilizes the following (0.8):**\n",
    "\n",
    "1. Private and Public Declaration\n",
    "\n",
    "2. Constructor\n",
    "\n",
    "3. Mutable Array containing To-Do List Items\n",
    "\n",
    "Make sure to add descriptive comments that are describing your code!"
   ]
  },
  {
   "cell_type": "code",
   "execution_count": null,
   "metadata": {
    "vscode": {
     "languageId": "java"
    }
   },
   "outputs": [],
   "source": [
    "class ToDoList:\n",
    "    def __init__(self):\n",
    "        # Private variable to store To-Do list items\n",
    "        self._items = []\n",
    "    def add_item(self, item):\n",
    "        ///Public method to add an item to the To-Do list.\n",
    "        // Args: item (str): The item to be added to the list.\n",
    "        self._items.append(item)\n",
    "    def remove_item(self, item):\n",
    "        // Public method to remove an item from the To-Do list.\n",
    "        // Args: item (str): The item to be removed from the list.\n",
    "        if item in self._items:\n",
    "            self._items.remove(item)\n",
    "        else:\n",
    "            print(f\"{item} is not in the To-Do list.\")    \n",
    "    def display_list(self):\n",
    "        // Public method to display the current To-Do list.\n",
    "\n",
    "        print(\"To-Do List:\")\n",
    "        for i, item in enumerate(self._items, 1):\n",
    "            print(f\"{i}. {item}\")\n",
    "if __name__ == \"__main__\":\n",
    "    # Create a To-Do list object\n",
    "    my_todo_list = ToDoList()\n",
    "    # Add items to the To-Do list\n",
    "    my_todo_list.add_item(\"Buy groceries\")\n",
    "    my_todo_list.add_item(\"Finish homework\")\n",
    "    my_todo_list.add_item(\"Go to the gym\")\n",
    "    # Display the To-Do list\n",
    "    my_todo_list.display_list()\n",
    "\n",
    "    # Remove an item from the To-Do list\n",
    "    my_todo_list.remove_item(\"Finish homework\")\n",
    "\n",
    "    # Display the updated To-Do list\n",
    "    my_todo_list.display_list()\n"
   ]
  },
  {
   "attachments": {},
   "cell_type": "markdown",
   "metadata": {},
   "source": [
    "**5.9-5.10 Hacks**\n",
    "\n",
    "**POPCORN HACKS: 0.2**\n",
    "\n",
    "**Write a two sentence reflection on the social and ethical implications of programming. (0.8)**"
   ]
  }
 ],
 "metadata": {
  "kernelspec": {
   "display_name": "Python 3",
   "language": "python",
   "name": "python3"
  },
  "language_info": {
   "name": "python",
   "version": "3.10.12 (main, Jun 11 2023, 05:26:28) [GCC 11.4.0]"
  },
  "orig_nbformat": 4,
  "vscode": {
   "interpreter": {
    "hash": "e7370f93d1d0cde622a1f8e1c04877d8463912d04d973331ad4851f04de6915a"
   }
  }
 },
 "nbformat": 4,
 "nbformat_minor": 2
}

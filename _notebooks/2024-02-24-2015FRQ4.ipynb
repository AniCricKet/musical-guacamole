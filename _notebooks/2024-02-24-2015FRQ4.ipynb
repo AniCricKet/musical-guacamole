{
 "cells": [
  {
   "cell_type": "markdown",
   "metadata": {},
   "source": [
    "---\n",
    "title: 2015 Practice FRQ Question 4\n",
    "description: Analysis and breakdown of Question 4 from the 2015 AP Exam\n",
    "toc: true\n",
    "layout: post\n",
    "comments: true\n",
    "courses: { csa: {week: 24} }\n",
    "permalink: /2015frq4\n",
    "---"
   ]
  },
  {
   "cell_type": "markdown",
   "metadata": {},
   "source": [
    "# Question 4: METHODS AND CONTROL STRUCTURES\n",
    "\n",
    "<img width=\"794\" alt=\"image\" src=\"https://github.com/AniCricKet/musical-guacamole/assets/91163802/768d86c6-5a88-442c-bc90-a75976076308\">\n",
    "\n",
    "\n",
    "# Question breakdown and approach: \n",
    "\n",
    "This question involves designing an interface called NumberGroup to represent a group of integers with a method named contains. The interface is intended to check if a given integer is part of the group. Following this, a class named Range is to be implemented, which represents a number group of integers within a specified range. The Range class, being a implementation of NumberGroup, includes instance variables, methods, and a constructor to handle the range of values. Lastly, a class called MultipleGroups is mentioned, which represents a collection of NumberGroup objects and itself is a NumberGroup. The task requires writing the contains method for MultipleGroups, checking if a given integer is present in one or more of the number groups stored in the instance variable groupList. To approach this, start by defining the NumberGroup interface with the specified contains method. Then, implement the Range class ensuring the proper handling of ranges. Lastly, for the MultipleGroups class, write the contains method by iterating through the groupList and checking each group for the given integer.\n",
    "\n",
    "## Part A:\n",
    "\n",
    "A number group represents a group of integers defined in some way. It could be empty, or it could contain one or more integers. Write an interface named NumberGroup that represents a group of integers. The interface should have a single contains method that determines if a given integer is in the group. For example, if group1 is of type NumberGroup, and it contains only the two numbers -5 and 3, then group1.contains(-5) would return true, and group1.contains(2) would return false. Write the complete NumberGroup interface. It must have exactly one method."
   ]
  },
  {
   "cell_type": "code",
   "execution_count": 1,
   "metadata": {},
   "outputs": [
    {
     "name": "stdout",
     "output_type": "stream",
     "text": [
      "true\n",
      "false\n"
     ]
    }
   ],
   "source": [
    "import java.util.Arrays;\n",
    "import java.util.List;\n",
    "\n",
    "public class Main {\n",
    "    public static void main(String[] args) {\n",
    "        NumberGroup group1 = new IntegerList(Arrays.asList(66, 63));\n",
    "        System.out.println(group1.contains(66)); // true\n",
    "        System.out.println(group1.contains(2));  // false\n",
    "    }\n",
    "\n",
    "    // Modified NumberGroup interface\n",
    "    public interface NumberGroup {\n",
    "        boolean contains(int num);\n",
    "    }\n",
    "\n",
    "    // Modified IntegerList class\n",
    "    public static class IntegerList implements NumberGroup {\n",
    "        private List<Integer> numbers;\n",
    "\n",
    "        public IntegerList(List<Integer> numbers) {\n",
    "            this.numbers = numbers;\n",
    "        }\n",
    "\n",
    "        @Override\n",
    "        public boolean contains(int num) {\n",
    "            return numbers.contains(num);\n",
    "        }\n",
    "    }\n",
    "}\n",
    "\n",
    "Main.main(null);"
   ]
  },
  {
   "cell_type": "markdown",
   "metadata": {},
   "source": [
    "## Part B:\n",
    "A range represents a number group that contains all (and only) the integers between a minimum value and a maximum value, inclusive. Write the Range class, which is a NumberGroup. The Range class represents the group of int values that range from a given minimum value up through a given maximum value, inclusive. For example, the declaration:\n",
    "\n",
    "NumberGroup range1 = new Range(-3, 2);\n",
    "\n",
    "represents the group of integer values -3, -2, -1, 0, 1, 2. Write the complete Range class. Include all necessary instance variables and methods as well as a constructor that takes two int parameters. The first parameter represents the minimum value, and the second parameter represents the maximum value of the range. You may assume that the minimum is less than or equal to the maximum.\n",
    "\n"
   ]
  },
  {
   "cell_type": "code",
   "execution_count": 2,
   "metadata": {},
   "outputs": [
    {
     "name": "stdout",
     "output_type": "stream",
     "text": [
      "true\n",
      "true\n",
      "false\n"
     ]
    }
   ],
   "source": [
    "public class Main {\n",
    "    public static void main(String[] args) {\n",
    "        NumberGroup range1 = new CustomRange(-6, 5);\n",
    "        System.out.println(range1.contains(-3)); // true\n",
    "        System.out.println(range1.contains(0));  // true\n",
    "        System.out.println(range1.contains(7));  // false\n",
    "    }\n",
    "\n",
    "    public interface NumberGroup {\n",
    "        boolean contains(int num);\n",
    "    }\n",
    "\n",
    "    public static class CustomRange implements NumberGroup {\n",
    "        private int min;\n",
    "        private int max;\n",
    "\n",
    "        public CustomRange(int min, int max) {\n",
    "            this.min = min;\n",
    "            this.max = max;\n",
    "        }\n",
    "\n",
    "        @Override\n",
    "        public boolean contains(int num) {\n",
    "            return num >= min && num <= max;\n",
    "        }\n",
    "    }\n",
    "}\n",
    "\n",
    "Main.main(null);"
   ]
  },
  {
   "cell_type": "markdown",
   "metadata": {},
   "source": [
    "## PART C: \n",
    "The MultipleGroups class (not shown) represents a collection of NumberGroup objects and isa NumberGroup. The MultipleGroups class stores the number groups in the instance variable groupList (shown below), which is initialized in the constructor.\n",
    "\n",
    "private List groupList;\n",
    "\n",
    "Write the MultipleGroups method contains. The method takes an integer and returns true if and only if the integer is contained in one or more of the number groups in groupList. For example, suppose multiple1 has been declared as an instance of MultipleGroups and consists of the three ranges created by the calls new Range(5, 8), new Range(10, 12), and new Range(1, 6). The following table shows the results of several calls to contains.\n",
    "\n"
   ]
  },
  {
   "cell_type": "code",
   "execution_count": 3,
   "metadata": {},
   "outputs": [
    {
     "name": "stdout",
     "output_type": "stream",
     "text": [
      "true\n",
      "false\n",
      "true\n"
     ]
    }
   ],
   "source": [
    "import java.util.List;\n",
    "\n",
    "public class Main {\n",
    "    public static void main(String[] args) {\n",
    "        List<NumberGroup> groups = List.of(new Range(5, 8), new Range(10, 12), new Range(1, 6));\n",
    "        MultipleGroups multiple1 = new MultipleGroups(groups);\n",
    "        \n",
    "        System.out.println(multiple1.contains(2)); // true\n",
    "        System.out.println(multiple1.contains(9)); // false\n",
    "        System.out.println(multiple1.contains(6)); // true\n",
    "    }\n",
    "\n",
    "    // from part A\n",
    "    public interface NumberGroup {\n",
    "        boolean contains(int num);\n",
    "    }\n",
    "\n",
    "    // from part B\n",
    "    public static class Range implements NumberGroup {\n",
    "        private int min;\n",
    "        private int max;\n",
    "\n",
    "        public Range(int min, int max) {\n",
    "            this.min = min;\n",
    "            this.max = max;\n",
    "        }\n",
    "\n",
    "        @Override\n",
    "        public boolean contains(int num) {\n",
    "            return num >= min && num <= max;\n",
    "        }\n",
    "    }\n",
    "\n",
    "    public static class MultipleGroups implements NumberGroup {\n",
    "        private List<NumberGroup> groupList;\n",
    "\n",
    "        public MultipleGroups(List<NumberGroup> groupList) {\n",
    "            this.groupList = groupList;\n",
    "        }\n",
    "\n",
    "        @Override\n",
    "        public boolean contains(int num) {\n",
    "            for (NumberGroup group : groupList) {\n",
    "                if (group.contains(num)) {\n",
    "                    return true;\n",
    "                }\n",
    "            }\n",
    "            return false;\n",
    "        }\n",
    "    }\n",
    "}\n",
    "\n",
    "Main.main(null);"
   ]
  },
  {
   "cell_type": "markdown",
   "metadata": {},
   "source": [
    "### Summary:\n",
    "\n",
    "For this question, I had to create a class called MultipleGroups, which represents a collection of NumberGroup objects and implements the NumberGroup interface. The class stores its number groups in groupList and required a contains method that checks if a given integer is present in any of these groups. To achieve this, I iterated through each NumberGroup in groupList and used the contains method of each group to determine if the provided integer is contained within. The provided code also included a Main class with a main method showcasing the usage of the implemented classes: Range, MultipleGroups, and the NumberGroup interface. To come up with this solution, I had to look back on concepts from previous lessons, focusing on interface implementation, class structure, and list manipulation in Java."
   ]
  }
 ],
 "metadata": {
  "kernelspec": {
   "display_name": "Java",
   "language": "java",
   "name": "java"
  },
  "language_info": {
   "codemirror_mode": "java",
   "file_extension": ".jshell",
   "mimetype": "text/x-java-source",
   "name": "java",
   "pygments_lexer": "java",
   "version": "17.0.5+9-LTS-191"
  }
 },
 "nbformat": 4,
 "nbformat_minor": 2
}

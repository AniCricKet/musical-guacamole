{
 "cells": [
  {
   "cell_type": "markdown",
   "metadata": {},
   "source": [
    "---\n",
    "title: 2015 Practice FRQ Question 4\n",
    "description: Analysis and breakdown of Question 4 from the 2015 AP Exam\n",
    "toc: true\n",
    "layout: post\n",
    "comments: true\n",
    "courses: { csa: {week: 24} }\n",
    "permalink: /2015frq4\n",
    "---"
   ]
  },
  {
   "cell_type": "markdown",
   "metadata": {},
   "source": [
    "# Question breakdown and approach: \n",
    "\n",
    "This question involves designing an interface called NumberGroup to represent a group of integers with a method named contains. The interface is intended to check if a given integer is part of the group. Following this, a class named Range is to be implemented, which represents a number group of integers within a specified range. The Range class, being a implementation of NumberGroup, includes instance variables, methods, and a constructor to handle the range of values. Lastly, a class called MultipleGroups is mentioned, which represents a collection of NumberGroup objects and itself is a NumberGroup. The task requires writing the contains method for MultipleGroups, checking if a given integer is present in one or more of the number groups stored in the instance variable groupList. To approach this, start by defining the NumberGroup interface with the specified contains method. Then, implement the Range class ensuring the proper handling of ranges. Lastly, for the MultipleGroups class, write the contains method by iterating through the groupList and checking each group for the given integer."
   ]
  }
 ],
 "metadata": {
  "language_info": {
   "name": "python"
  }
 },
 "nbformat": 4,
 "nbformat_minor": 2
}

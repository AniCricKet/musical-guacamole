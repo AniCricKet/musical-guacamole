{
 "cells": [
  {
   "cell_type": "markdown",
   "metadata": {},
   "source": [
    "---\n",
    "title: 2015 Practice FRQ Question 2\n",
    "description: Analysis and breakdown of Question 2 from the 2015 AP Exam\n",
    "toc: true\n",
    "layout: post\n",
    "comments: true\n",
    "courses: { csa: {week: 24} }\n",
    "permalink: /2015frq2\n",
    "---"
   ]
  },
  {
   "cell_type": "markdown",
   "metadata": {},
   "source": [
    "# Question breakdown and approach: \n",
    "\n",
    "This question describes a guessing game where a player attempts to guess a hidden word consisting of capital letters. The player receives hints after each guess, where each hint is based on a comparison between the hidden word and the guess. The hint follows specific rules: matching letters in the same position, letters in different positions marked with a plus sign, and letters not in the hidden word marked with an asterisk. The task is to create a class named HiddenWord to represent the hidden word, with a constructor accepting the hidden word as a parameter and a method named getHint that takes a guess and produces a hint. Approach: (1) Define an instance variable in the HiddenWord class to store the hidden word. (2) Create a constructor to initialize the hidden word when an object of the HiddenWord class is created. (3) Implement the getHint method to compare the guess with the hidden word based on the rules provided. (4) Iterate through each character in the guess, compare it with the corresponding character in the hidden word, and construct the hint accordingly. (5) Return the hint as a string."
   ]
  }
 ],
 "metadata": {
  "language_info": {
   "name": "python"
  }
 },
 "nbformat": 4,
 "nbformat_minor": 2
}

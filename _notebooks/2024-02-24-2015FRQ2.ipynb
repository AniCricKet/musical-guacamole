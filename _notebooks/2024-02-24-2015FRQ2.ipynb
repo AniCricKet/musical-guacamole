{
 "cells": [
  {
   "cell_type": "markdown",
   "metadata": {},
   "source": [
    "---\n",
    "title: 2015 Practice FRQ Question 2\n",
    "description: Analysis and breakdown of Question 2 from the 2015 AP Exam\n",
    "toc: true\n",
    "layout: post\n",
    "comments: true\n",
    "courses: { csa: {week: 24} }\n",
    "permalink: /2015frq2\n",
    "---"
   ]
  },
  {
   "cell_type": "markdown",
   "metadata": {},
   "source": [
    "# Question 2: CLASSES\n",
    "\n",
    "<img width=\"970\" alt=\"image\" src=\"https://github.com/AniCricKet/musical-guacamole/assets/91163802/66316650-70ff-497f-919b-ba3d4e6a2a87\">\n",
    "\n",
    "# Question breakdown and approach: \n",
    "\n",
    "This question describes a guessing game where a player attempts to guess a hidden word consisting of capital letters. The player receives hints after each guess, where each hint is based on a comparison between the hidden word and the guess. The hint follows specific rules: matching letters in the same position, letters in different positions marked with a plus sign, and letters not in the hidden word marked with an asterisk. The task is to create a class named HiddenWord to represent the hidden word, with a constructor accepting the hidden word as a parameter and a method named getHint that takes a guess and produces a hint. Approach: (1) Define an instance variable in the HiddenWord class to store the hidden word. (2) Create a constructor to initialize the hidden word when an object of the HiddenWord class is created. (3) Implement the getHint method to compare the guess with the hidden word based on the rules provided. (4) Iterate through each character in the guess, compare it with the corresponding character in the hidden word, and construct the hint accordingly. (5) Return the hint as a string.\n",
    "\n",
    "### Write the complete HiddenWord class, including any necessary instance variables, its constructor, and the method, getHint, described above. You may assume that the length of the guess is the same as the length of the hidden word."
   ]
  },
  {
   "cell_type": "code",
   "execution_count": 1,
   "metadata": {},
   "outputs": [
    {
     "name": "stdout",
     "output_type": "stream",
     "text": [
      "Welcome to the Hidden Word Game!\n",
      "Guess the Hidden Word 😁 (all caps, 5 letters):\n",
      "Enter your guess: Hint: *****\n",
      "Wrong! Keep trying...\n",
      "Enter your guess: Hint: *****\n",
      "Wrong! Keep trying...\n",
      "Enter your guess: Hint: HARPS\n",
      "That is correct! Great job! \n"
     ]
    }
   ],
   "source": [
    "import java.util.Scanner;\n",
    "\n",
    "public class HiddenWord {\n",
    "    private String word;\n",
    "\n",
    "    public HiddenWord(String hiddenWord) {\n",
    "        word = hiddenWord;\n",
    "    }\n",
    "\n",
    "    public String getHint(String guess) {\n",
    "        String hint = \"\";\n",
    "        for (int i = 0; i < guess.length(); i++) {\n",
    "            if (guess.substring(i, i + 1).equals(word.substring(i, i + 1))) {\n",
    "                hint += guess.substring(i, i + 1);\n",
    "            } else if (word.indexOf(guess.substring(i, i + 1)) != -1) {\n",
    "                hint += \"+\";\n",
    "            } else {\n",
    "                hint += \"*\";\n",
    "            }\n",
    "        }\n",
    "        return hint;\n",
    "    }\n",
    "\n",
    "    public static void main(String[] args) {\n",
    "        HiddenWord puzzle = new HiddenWord(\"HARPS\");\n",
    "        Scanner scanner = new Scanner(System.in);\n",
    "\n",
    "        System.out.println(\"Welcome to the Hidden Word Game!\");\n",
    "        System.out.println(\"Guess the Hidden Word 😁 (all caps, 5 letters):\");\n",
    "\n",
    "        boolean guessedCorrectly = false;\n",
    "        while (!guessedCorrectly) {\n",
    "            System.out.print(\"Enter your guess: \");\n",
    "            String guess = scanner.nextLine();\n",
    "\n",
    "            String hint = puzzle.getHint(guess);\n",
    "            System.out.println(\"Hint: \" + hint);\n",
    "\n",
    "            if (hint.equals(puzzle.word)) {\n",
    "                System.out.println(\"That is correct! Great job! \");\n",
    "                guessedCorrectly = true;\n",
    "            } else {\n",
    "                System.out.println(\"Wrong! Keep trying...\");\n",
    "            }\n",
    "        }\n",
    "        scanner.close();\n",
    "    }\n",
    "}\n",
    "\n",
    "HiddenWord.main(null);\n"
   ]
  },
  {
   "cell_type": "markdown",
   "metadata": {},
   "source": [
    "### Summary:\n",
    "\n",
    "I felt that this question was pretty straightforward to understand and implement. The task was to create a HiddenWord class with a constructor and a getHint method, where the getHint method compared each character in the guessed word with the hidden word and generated hints accordingly. Earlier in the year I was experimenting with making a Wordle style game, so having some knowledge from that definitely helped when I went to approach this problem."
   ]
  }
 ],
 "metadata": {
  "kernelspec": {
   "display_name": "Java",
   "language": "java",
   "name": "java"
  },
  "language_info": {
   "codemirror_mode": "java",
   "file_extension": ".jshell",
   "mimetype": "text/x-java-source",
   "name": "java",
   "pygments_lexer": "java",
   "version": "17.0.5+9-LTS-191"
  }
 },
 "nbformat": 4,
 "nbformat_minor": 2
}

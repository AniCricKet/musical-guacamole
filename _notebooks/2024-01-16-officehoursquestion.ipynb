{
 "cells": [
  {
   "cell_type": "markdown",
   "metadata": {},
   "source": [
    "---\n",
    "layout: post\n",
    "title: Question 35 Lesson\n",
    "toc: true\n",
    "comments: true\n",
    "description: Comprehensive review of Question 35 from MCQ test (Office Hours)\n",
    "courses: { csa: {week: 19} }\n",
    "type: tangibles\n",
    "permalink: /question35\n",
    "---"
   ]
  },
  {
   "cell_type": "markdown",
   "metadata": {},
   "source": [
    "## Question 35 - Iterative binarySearch of 1D int array (focus: purpose, speed, accuracy): \n",
    "<img width=\"512\" alt=\"Screenshot 2024-01-07 at 9 20 55 PM\" src=\"https://github.com/AniCricKet/musical-guacamole/assets/91163802/c0b47603-cdbd-457a-b5b0-e614cf073d80\">"
   ]
  },
  {
   "cell_type": "code",
   "execution_count": null,
   "metadata": {
    "vscode": {
     "languageId": "java"
    }
   },
   "outputs": [],
   "source": [
    "public static int binarySearch(int[] data, int target) {\n",
    "    int start = 0;\n",
    "    int end = data.length - 1;\n",
    "\n",
    "    // Continue the search as long as the start index is less than or equal to the end index\n",
    "    while (start <= end) {\n",
    "        // Calculate the midpoint of the current search range\n",
    "        int mid = (start + end) / 2;\n",
    "\n",
    "        // If the target is less than the value at the midpoint, adjust the end index\n",
    "        if (target < data[mid]) {\n",
    "            end = mid - 1;\n",
    "        }\n",
    "        // If the target is greater than the value at the midpoint, adjust the start index\n",
    "        else if (target > data[mid]) {\n",
    "            start = mid + 1;\n",
    "        }\n",
    "        // If the target is equal to the value at the midpoint, return the index\n",
    "        else {\n",
    "            return mid;\n",
    "        }\n",
    "    }\n",
    "\n",
    "    // If the target is not found, return -1\n",
    "    return -1;\n",
    "}"
   ]
  },
  {
   "cell_type": "markdown",
   "metadata": {},
   "source": [
    "If you were to plug in the provided values:\n",
    "```java\n",
    "int[] values = {1, 2, 3, 4, 5, 8, 8, 8};\n",
    "int target = 8;\n",
    "\n",
    "// Calling the binarySearch method and storing the result in the 'result' variable\n",
    "int result = binarySearch(values, target);\n",
    "```\n",
    "Here's a breakdown of the process:\n",
    "\n",
    "1. Initially, the search range is set with `start = 0` and `end = 7` (length of the array - 1).\n",
    "2. In the first iteration, the midpoint `mid` is calculated as `(0 + 7) / 2 = 3`. Since the `target (8)` is greater than `data[3] (4)`, the search continues in the right half of the array, and `start` is updated to `4`.\n",
    "3. In the second iteration, the midpoint is calculated as `(4 + 7) / 2 = 5`. Here, the `target (8)` is equal to `data[5]`, so the method returns `5` as the index where the target is found.\n",
    "\n",
    "As a result, the value returned by the call `binarySearch(values, target)` is `5`. This indicates that the target value `8` is found at index `5` in the given array `values`."
   ]
  }
 ],
 "metadata": {
  "language_info": {
   "name": "python"
  }
 },
 "nbformat": 4,
 "nbformat_minor": 2
}

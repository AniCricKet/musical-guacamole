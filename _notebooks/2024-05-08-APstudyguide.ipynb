{
 "cells": [
  {
   "cell_type": "markdown",
   "metadata": {},
   "source": [
    "---\n",
    "toc: true\n",
    "comments: true\n",
    "title: Aniket's AP Test Study Guide\n",
    "courses: { csa: {week: 28} }\n",
    "type: tangibles\n",
    "description: In depth explanations and code segments for all APCSA test units\n",
    "layout: post\n",
    "permalink: /aptestreview\n",
    "---"
   ]
  },
  {
   "cell_type": "markdown",
   "metadata": {},
   "source": [
    "## [General Test Information](https://apcentral.collegeboard.org/media/pdf/ap-computer-science-a-course-and-exam-description.pdf)\n",
    "\n",
    "## [Java Quick Reference Sheet](https://apstudents.collegeboard.org/ap/pdf/ap-computer-science-a-java-quick-reference_0.pdf)\n",
    "\n",
    "<img width=\"896\" alt=\"image\" src=\"https://github.com/AniCricKet/musical-guacamole/assets/91163802/7c9724e7-3dc6-45a8-9550-f4689283816b\">\n",
    "<img width=\"896\" alt=\"image\" src=\"https://github.com/AniCricKet/musical-guacamole/assets/91163802/57d27a1b-89df-42c5-8790-983c6a4c3e98\">\n",
    "\n",
    "\n",
    "## Format of the 2024 AP CSA Exam\n",
    "\n",
    "### Multiple Choice\n",
    "\n",
    "* 40 Questions | 1 Hour 30 Minutes | 50% of Exam Score\n",
    "\n",
    "* The MCQ section will mostly be individual questions, with 1-2 sets of two questions each.\n",
    "\n",
    "### Free Response\n",
    "\n",
    "* 4 Questions | 1 Hour 30 Minutes | 50% of Exam Score\n",
    "\n",
    "* Question #1: Methods and Control Structures\n",
    "\n",
    "* Question #2: Classes\n",
    "\n",
    "* Question #3: Array/ Array List\n",
    "\n",
    "* Question #4: 2D Array\n",
    "\n",
    "\n",
    "# Review time 😁\n",
    "\n",
    "# Unit 1 - Primative Types\n",
    "\n",
    "### Key learning targets: \n",
    "\n",
    "* Data Types: Understand the different primitive data types in Java such as int, double, char, boolean.\n",
    "* Variables and Constants: Learn how to declare variables and constants, and understand their scope.\n",
    "* Literals: Know how to use literals to represent values directly in code.\n",
    "* Operators: Familiarize yourself with arithmetic, relational, logical, and assignment operators.\n",
    "* Type Casting: Understand implicit and explicit type casting in Java.\n",
    "\n",
    "- **Primitive Types**:\n",
    "  - Basic data types like `int`, `double`, `char`, `boolean`.\n",
    "  - Each type has a specific size and range of values.\n",
    "  - Example: `int` for integers, `double` for floating-point numbers.\n",
    "\n",
    "- **Variables and Constants**:\n",
    "  - **Variables**: Named memory locations to store data temporarily.\n",
    "    - Declared with a type and name, can change value during execution.\n",
    "  - **Constants**: Variables with values that cannot be changed.\n",
    "    - Declared with `final` keyword, conventionally named with uppercase letters.\n",
    "\n",
    "- **Literals**:\n",
    "  - Literal representations of values in Java code.\n",
    "  - Types include integer (e.g., `10`), floating-point (e.g., `3.14`), character (e.g., `'A'`), string (e.g., `\"Hello\"`), and boolean (e.g., `true` or `false`) literals.\n",
    "  - Example: `42` as an integer literal, `'X'` as a character literal.\n",
    "\n",
    "- **Operators**:\n",
    "  - Arithmetic: `+`, `-`, `*`, `/`, `%`.\n",
    "  - Assignment: `=`, `+=`, `-=`, `*=`, `/=`, `%=`.\n",
    "  - Comparison: `==`, `!=`, `<`, `<=`, `>`, `>=`.\n",
    "  - Logical: `&&`, `||`, `!`.\n",
    "  - Bitwise: `&`, `|`, `^`, `~`, `<<`, `>>`, `>>>`.\n",
    "  - Example: `x + y` for addition, `x > y` for comparison.\n",
    "\n",
    "- **Type Casting**:\n",
    "  - Converting a value from one data type to another.\n",
    "  - Implicit casting: Automatically done by the compiler (e.g., `int` to `double`).\n",
    "  - Explicit casting: Manually performed, may result in data loss.\n",
    "  - Example: `(double) x` to cast `x` to a `double`."
   ]
  },
  {
   "cell_type": "code",
   "execution_count": 1,
   "metadata": {
    "vscode": {
     "languageId": "java"
    }
   },
   "outputs": [
    {
     "name": "stdout",
     "output_type": "stream",
     "text": [
      "Age: 25\n",
      "Height: 5.9\n",
      "Gender: M\n",
      "Is student: true\n"
     ]
    }
   ],
   "source": [
    "// Declaration and initialization of variables\n",
    "int age = 25;\n",
    "double height = 5.9;\n",
    "char gender = 'M';\n",
    "boolean isStudent = true;\n",
    "\n",
    "// Output variables\n",
    "System.out.println(\"Age: \" + age);\n",
    "System.out.println(\"Height: \" + height);\n",
    "System.out.println(\"Gender: \" + gender);\n",
    "System.out.println(\"Is student: \" + isStudent);"
   ]
  },
  {
   "cell_type": "markdown",
   "metadata": {},
   "source": [
    "# Unit 2: Using Objects\n",
    "\n",
    "### Key learning targets: \n",
    "\n",
    "* Classes and Objects: Understand how classes are used to create objects, and how to access their properties and methods.\n",
    "* Constructors: Learn about constructors and their role in object initialization.\n",
    "* Instance Methods: Understand the concept of instance methods and how they operate on object data.\n",
    "* Encapsulation: Learn about encapsulation and how it helps in data hiding and abstraction.\n",
    "* String Class: Explore the methods provided by the String class for manipulating strings."
   ]
  },
  {
   "cell_type": "code",
   "execution_count": 3,
   "metadata": {
    "vscode": {
     "languageId": "java"
    }
   },
   "outputs": [
    {
     "name": "stdout",
     "output_type": "stream",
     "text": [
      "Name: John\n",
      "Age: 21\n",
      "Name: Aniket\n",
      "Age: 17\n"
     ]
    }
   ],
   "source": [
    "// Class definition\n",
    "class Person {\n",
    "    // Instance variables\n",
    "    String name;\n",
    "    int age;\n",
    "\n",
    "    // Constructor\n",
    "    public Person(String n, int a) {\n",
    "        name = n;\n",
    "        age = a;\n",
    "    }\n",
    "\n",
    "    // Instance method\n",
    "    public void displayInfo() {\n",
    "        System.out.println(\"Name: \" + name);\n",
    "        System.out.println(\"Age: \" + age);\n",
    "    }\n",
    "}\n",
    "\n",
    "// Creating objects of Person class\n",
    "Person person1 = new Person(\"John\", 21);\n",
    "Person person2 = new Person(\"Aniket\", 17);\n",
    "\n",
    "// Calling instance method\n",
    "person1.displayInfo();\n",
    "person2.displayInfo();"
   ]
  },
  {
   "cell_type": "markdown",
   "metadata": {},
   "source": [
    "# Unit 3: Boolean Expressions and If Statements\n",
    "\n",
    "### Key learning targets: \n",
    "\n",
    "* Boolean Expressions: Understand boolean expressions and their role in decision making.\n",
    "* If Statements: Learn about conditional statements and how they are used to control the flow of a program.\n",
    "* Nested If Statements: Understand nested if statements and their use in complex decision-making scenarios.\n",
    "* Boolean Operators: Learn about logical operators (&&, ||, !) and their use in combining boolean expressions.\n"
   ]
  },
  {
   "cell_type": "code",
   "execution_count": 4,
   "metadata": {
    "vscode": {
     "languageId": "java"
    }
   },
   "outputs": [
    {
     "name": "stdout",
     "output_type": "stream",
     "text": [
      "x is positive\n"
     ]
    }
   ],
   "source": [
    "int x = 10;\n",
    "\n",
    "// If statement\n",
    "if (x > 0) {\n",
    "    System.out.println(\"x is positive\");\n",
    "} else if (x < 0) {\n",
    "    System.out.println(\"x is negative\");\n",
    "} else {\n",
    "    System.out.println(\"x is zero\");\n",
    "}"
   ]
  },
  {
   "cell_type": "markdown",
   "metadata": {},
   "source": [
    "# Unit 4: Iteration\n",
    "\n",
    "### Key learning targets: \n",
    "\n",
    "* While Loops: Understand the syntax and usage of while loops for repetitive tasks.\n",
    "* For Loops: Learn how to use for loops as a concise way to iterate over a range of values.\n",
    "* Nested Loops: Understand nested loops and their applications in handling multidimensional data structures.\n",
    "* Loop Control: Learn about loop control statements like break and continue.\n"
   ]
  },
  {
   "cell_type": "code",
   "execution_count": 5,
   "metadata": {
    "vscode": {
     "languageId": "java"
    }
   },
   "outputs": [
    {
     "name": "stdout",
     "output_type": "stream",
     "text": [
      "1\n",
      "2\n",
      "3\n",
      "4\n",
      "5\n"
     ]
    }
   ],
   "source": [
    "// Printing numbers from 1 to 5 using for loop\n",
    "for (int i = 1; i <= 5; i++) {\n",
    "    System.out.println(i);\n",
    "}"
   ]
  },
  {
   "cell_type": "markdown",
   "metadata": {},
   "source": [
    "# Unit 5: Writing Classes\n",
    "\n",
    "### Key learning targets: \n",
    "\n",
    "* Defining Classes: Understand the process of defining custom classes to model real-world entities.\n",
    "* Instance Variables: Learn about instance variables and their role in storing object state.\n",
    "* Methods: Understand how to define methods within a class to perform operations on object data.\n",
    "* Constructors: Review constructors and their importance in initializing object state.\n",
    "* Access Modifiers: Learn about access modifiers (public, private, protected) and their role in controlling access to class members.\n"
   ]
  },
  {
   "cell_type": "code",
   "execution_count": 9,
   "metadata": {
    "vscode": {
     "languageId": "java"
    }
   },
   "outputs": [],
   "source": [
    "// Class definition\n",
    "public class Student {\n",
    "    // Instance variables\n",
    "    private String name;\n",
    "    private int age;\n",
    "    private String grade;\n",
    "\n",
    "    // Constructor with parameters\n",
    "    public Student(String name, int age, String grade) {\n",
    "        this.name = name;\n",
    "        this.age = age;\n",
    "        this.grade = grade;\n",
    "    }\n",
    "\n",
    "    // Method to display student information\n",
    "    public void displayInfo() {\n",
    "        System.out.println(\"Name: \" + name);\n",
    "        System.out.println(\"Age: \" + age);\n",
    "        System.out.println(\"Grade: \" + grade);\n",
    "    }\n",
    "\n",
    "    // Getter and Setter methods for name\n",
    "    public String getName() {\n",
    "        return name;\n",
    "    }\n",
    "\n",
    "    public void setName(String name) {\n",
    "        this.name = name;\n",
    "    }\n",
    "\n",
    "    // Getter and Setter methods for age\n",
    "    public int getAge() {\n",
    "        return age;\n",
    "    }\n",
    "\n",
    "    public void setAge(int age) {\n",
    "        this.age = age;\n",
    "    }\n",
    "\n",
    "    // Getter and Setter methods for grade\n",
    "    public String getGrade() {\n",
    "        return grade;\n",
    "    }\n",
    "\n",
    "    public void setGrade(String grade) {\n",
    "        this.grade = grade;\n",
    "    }\n",
    "}"
   ]
  },
  {
   "cell_type": "markdown",
   "metadata": {},
   "source": [
    "# Unit 6: Array Lists\n",
    "\n",
    "### Key learning targets:\n",
    "\n",
    "* Array Lists: Understand the ArrayList class and its usage for dynamic arrays.\n",
    "* Adding and Removing Elements: Learn how to add and remove elements from an ArrayList.\n",
    "* Traversing Arrays: Understand various techniques for traversing and accessing elements in an ArrayList.\n",
    "* Array List Methods: Familiarize yourself with common methods provided by the ArrayList class for manipulation."
   ]
  },
  {
   "cell_type": "code",
   "execution_count": 7,
   "metadata": {
    "vscode": {
     "languageId": "java"
    }
   },
   "outputs": [
    {
     "name": "stdout",
     "output_type": "stream",
     "text": [
      "Elements of the ArrayList:\n",
      "10\n",
      "20\n",
      "30\n",
      "First element: 10\n",
      "Second element: 15\n",
      "Is ArrayList empty? false\n",
      "Size of ArrayList: 3\n",
      "ArrayList after clearing: []\n"
     ]
    }
   ],
   "source": [
    "import java.util.ArrayList;\n",
    "\n",
    "public class ArrayListExample {\n",
    "    public static void main(String[] args) {\n",
    "        // Creating an ArrayList of integers\n",
    "        ArrayList<Integer> numbers = new ArrayList<>();\n",
    "\n",
    "        // Adding elements to the ArrayList\n",
    "        numbers.add(10);\n",
    "        numbers.add(20);\n",
    "        numbers.add(30);\n",
    "\n",
    "        // Printing elements of the ArrayList\n",
    "        System.out.println(\"Elements of the ArrayList:\");\n",
    "        for (int num : numbers) {\n",
    "            System.out.println(num);\n",
    "        }\n",
    "\n",
    "        // Adding elements at specific index\n",
    "        numbers.add(1, 15); // Adds 15 at index 1\n",
    "\n",
    "        // Removing an element\n",
    "        numbers.remove(2); // Removes element at index 2\n",
    "\n",
    "        // Accessing elements using index\n",
    "        System.out.println(\"First element: \" + numbers.get(0));\n",
    "        System.out.println(\"Second element: \" + numbers.get(1));\n",
    "\n",
    "        // Checking if ArrayList is empty\n",
    "        System.out.println(\"Is ArrayList empty? \" + numbers.isEmpty());\n",
    "\n",
    "        // Finding the size of the ArrayList\n",
    "        System.out.println(\"Size of ArrayList: \" + numbers.size());\n",
    "\n",
    "        // Clearing the ArrayList\n",
    "        numbers.clear();\n",
    "        System.out.println(\"ArrayList after clearing: \" + numbers);\n",
    "    }\n",
    "}\n",
    "\n",
    "ArrayListExample.main(null);"
   ]
  },
  {
   "cell_type": "markdown",
   "metadata": {},
   "source": [
    "# Unit 7: 2D Arrays\n",
    "\n",
    "### Key learning targets: \n",
    "\n",
    "* 2D Arrays: Understand the concept of 2D arrays for representing tabular data.\n",
    "* Array Initialization: Learn how to initialize and populate 2D arrays.\n",
    "* Traversing 2D Arrays: Understand techniques for traversing rows and columns of a 2D array.\n",
    "* Manipulating 2D Arrays: Learn about common operations performed on 2D arrays such as transposition and matrix operations.\n"
   ]
  },
  {
   "cell_type": "code",
   "execution_count": 10,
   "metadata": {
    "vscode": {
     "languageId": "java"
    }
   },
   "outputs": [
    {
     "name": "stdout",
     "output_type": "stream",
     "text": [
      "Printing 2D array:\n",
      "1 2 3 \n",
      "4 5 6 \n",
      "7 8 9 \n",
      "Element at (0, 0): 1\n",
      "Element at (1, 2): 6\n",
      "Transposed 2D array:\n",
      "1 4 7 \n",
      "2 5 8 \n",
      "3 6 9 \n"
     ]
    }
   ],
   "source": [
    "public class TwoDArrayExample {\n",
    "    public static void main(String[] args) {\n",
    "        // Initializing and populating a 2D array\n",
    "        int[][] matrix = {\n",
    "            {1, 2, 3},\n",
    "            {4, 5, 6},\n",
    "            {7, 8, 9}\n",
    "        };\n",
    "\n",
    "        // Traversing and printing the 2D array\n",
    "        System.out.println(\"Printing 2D array:\");\n",
    "        for (int i = 0; i < matrix.length; i++) {\n",
    "            for (int j = 0; j < matrix[i].length; j++) {\n",
    "                System.out.print(matrix[i][j] + \" \");\n",
    "            }\n",
    "            System.out.println();\n",
    "        }\n",
    "\n",
    "        // Accessing elements of the 2D array\n",
    "        System.out.println(\"Element at (0, 0): \" + matrix[0][0]);\n",
    "        System.out.println(\"Element at (1, 2): \" + matrix[1][2]);\n",
    "\n",
    "        // Transposing the 2D array\n",
    "        int[][] transposedMatrix = new int[matrix[0].length][matrix.length];\n",
    "        for (int i = 0; i < matrix.length; i++) {\n",
    "            for (int j = 0; j < matrix[i].length; j++) {\n",
    "                transposedMatrix[j][i] = matrix[i][j];\n",
    "            }\n",
    "        }\n",
    "\n",
    "        // Printing the transposed 2D array\n",
    "        System.out.println(\"Transposed 2D array:\");\n",
    "        for (int i = 0; i < transposedMatrix.length; i++) {\n",
    "            for (int j = 0; j < transposedMatrix[i].length; j++) {\n",
    "                System.out.print(transposedMatrix[i][j] + \" \");\n",
    "            }\n",
    "            System.out.println();\n",
    "        }\n",
    "    }\n",
    "}\n",
    "\n",
    "TwoDArrayExample.main(null);"
   ]
  },
  {
   "cell_type": "markdown",
   "metadata": {},
   "source": [
    "# Unit 8: Inheritance\n",
    "\n",
    "### Key learning targets:\n",
    "\n",
    "* Inheritance: Understand the concept of inheritance and how it allows classes to inherit properties and behaviors from other classes.\n",
    "* Superclass and Subclass: Learn about superclass-subclass relationships and how to extend classes.\n",
    "* Overriding Methods: Understand method overriding and how it allows subclasses to provide their own implementation of inherited methods.\n",
    "* Polymorphism: Learn about polymorphism and how it allows objects of different classes to be treated uniformly.\n"
   ]
  },
  {
   "cell_type": "code",
   "execution_count": 11,
   "metadata": {
    "vscode": {
     "languageId": "java"
    }
   },
   "outputs": [
    {
     "name": "stdout",
     "output_type": "stream",
     "text": [
      "Dog barks\n",
      "Cat meows\n",
      "Dog barks\n",
      "Cat meows\n"
     ]
    }
   ],
   "source": [
    "// Parent class (superclass)\n",
    "class Animal {\n",
    "    // Method to make sound\n",
    "    void makeSound() {\n",
    "        System.out.println(\"Animal makes a sound\");\n",
    "    }\n",
    "}\n",
    "\n",
    "// Child class (subclass) inheriting from Animal\n",
    "class Dog extends Animal {\n",
    "    // Overriding the makeSound() method\n",
    "    void makeSound() {\n",
    "        System.out.println(\"Dog barks\");\n",
    "    }\n",
    "}\n",
    "\n",
    "// Child class (subclass) inheriting from Animal\n",
    "class Cat extends Animal {\n",
    "    // Overriding the makeSound() method\n",
    "    void makeSound() {\n",
    "        System.out.println(\"Cat meows\");\n",
    "    }\n",
    "}\n",
    "\n",
    "public class InheritanceExample {\n",
    "    public static void main(String[] args) {\n",
    "        // Creating objects of Dog and Cat classes\n",
    "        Dog dog = new Dog();\n",
    "        Cat cat = new Cat();\n",
    "\n",
    "        // Calling makeSound() method of Dog and Cat objects\n",
    "        dog.makeSound(); // Output: Dog barks\n",
    "        cat.makeSound(); // Output: Cat meows\n",
    "\n",
    "        // Using polymorphism\n",
    "        Animal animal1 = new Dog(); // Animal reference, Dog object\n",
    "        Animal animal2 = new Cat(); // Animal reference, Cat object\n",
    "\n",
    "        // Calling makeSound() method using Animal references\n",
    "        animal1.makeSound(); // Output: Dog barks\n",
    "        animal2.makeSound(); // Output: Cat meows\n",
    "    }\n",
    "}\n",
    "\n",
    "InheritanceExample.main(null);"
   ]
  },
  {
   "cell_type": "markdown",
   "metadata": {},
   "source": [
    "# Unit 9: Recursion\n",
    "\n",
    "### Key learning targets:\n",
    "\n",
    "* Recursion Basics: Understand the concept of recursion and how it involves a method calling itself.\n",
    "* Base Case: Learn about the importance of defining a base case in recursive methods to avoid infinite recursion.\n",
    "* Recursive Thinking: Practice breaking down problems into smaller subproblems and solving them recursively.\n",
    "* Recursive vs. Iterative Solutions: Compare and contrast recursive and iterative solutions for various problems."
   ]
  },
  {
   "cell_type": "code",
   "execution_count": 12,
   "metadata": {
    "vscode": {
     "languageId": "java"
    }
   },
   "outputs": [
    {
     "name": "stdout",
     "output_type": "stream",
     "text": [
      "Factorial of 5: 120\n",
      "Fibonacci series up to 10 terms:\n",
      "0 1 1 2 3 5 8 13 21 34 "
     ]
    }
   ],
   "source": [
    "public class RecursionExample {\n",
    "    // Recursive method to calculate factorial\n",
    "    static int factorial(int n) {\n",
    "        // Base case: If n is 0 or 1, return 1\n",
    "        if (n == 0 || n == 1)\n",
    "            return 1;\n",
    "        // Recursive case: Calculate factorial using recursion\n",
    "        else\n",
    "            return n * factorial(n - 1);\n",
    "    }\n",
    "\n",
    "    // Recursive method to calculate Fibonacci series\n",
    "    static int fibonacci(int n) {\n",
    "        // Base case: If n is 0 or 1, return n\n",
    "        if (n <= 1)\n",
    "            return n;\n",
    "        // Recursive case: Calculate Fibonacci series using recursion\n",
    "        else\n",
    "            return fibonacci(n - 1) + fibonacci(n - 2);\n",
    "    }\n",
    "\n",
    "    public static void main(String[] args) {\n",
    "        // Calculating factorial of 5 using recursion\n",
    "        int factorialResult = factorial(5);\n",
    "        System.out.println(\"Factorial of 5: \" + factorialResult);\n",
    "\n",
    "        // Calculating Fibonacci series up to 10 terms using recursion\n",
    "        System.out.println(\"Fibonacci series up to 10 terms:\");\n",
    "        for (int i = 0; i < 10; i++) {\n",
    "            System.out.print(fibonacci(i) + \" \");\n",
    "        }\n",
    "    }\n",
    "}\n",
    "\n",
    "RecursionExample.main(null);"
   ]
  },
  {
   "cell_type": "markdown",
   "metadata": {},
   "source": [
    "# Unit 10: Searching and Sorting Algorithms\n",
    "\n",
    "### Key learning targets:\n",
    "\n",
    "* Linear Search: Understand the linear search algorithm and its implementation.\n",
    "* Binary Search: Learn about the binary search algorithm and its efficiency for sorted arrays.\n",
    "* Selection Sort: Understand the selection sort algorithm and its implementation.\n",
    "* Merge Sort: Learn about the merge sort algorithm and its efficiency for sorting large datasets."
   ]
  },
  {
   "cell_type": "code",
   "execution_count": 13,
   "metadata": {
    "vscode": {
     "languageId": "java"
    }
   },
   "outputs": [
    {
     "name": "stdout",
     "output_type": "stream",
     "text": [
      "Linear Search: Index of 25 is 2\n",
      "Binary Search: Index of 25 is 3\n",
      "Selection Sort: Sorted array is [11, 12, 22, 25, 34, 64, 90]\n",
      "Merge Sort: Sorted array is [11, 12, 22, 25, 34, 64, 90]\n"
     ]
    }
   ],
   "source": [
    "public class SearchAndSortExample {\n",
    "    // Linear Search algorithm\n",
    "    static int linearSearch(int[] arr, int target) {\n",
    "        for (int i = 0; i < arr.length; i++) {\n",
    "            if (arr[i] == target) {\n",
    "                return i; // Return index if target found\n",
    "            }\n",
    "        }\n",
    "        return -1; // Return -1 if target not found\n",
    "    }\n",
    "\n",
    "    // Binary Search algorithm (recursive)\n",
    "    static int binarySearch(int[] arr, int target, int low, int high) {\n",
    "        if (low <= high) {\n",
    "            int mid = low + (high - low) / 2;\n",
    "            if (arr[mid] == target) {\n",
    "                return mid; // Return index if target found\n",
    "            } else if (arr[mid] < target) {\n",
    "                return binarySearch(arr, target, mid + 1, high); // Search in the right half\n",
    "            } else {\n",
    "                return binarySearch(arr, target, low, mid - 1); // Search in the left half\n",
    "            }\n",
    "        }\n",
    "        return -1; // Return -1 if target not found\n",
    "    }\n",
    "\n",
    "    // Selection Sort algorithm\n",
    "    static void selectionSort(int[] arr) {\n",
    "        int n = arr.length;\n",
    "        for (int i = 0; i < n - 1; i++) {\n",
    "            int minIndex = i;\n",
    "            for (int j = i + 1; j < n; j++) {\n",
    "                if (arr[j] < arr[minIndex]) {\n",
    "                    minIndex = j;\n",
    "                }\n",
    "            }\n",
    "            // Swap arr[i] with arr[minIndex]\n",
    "            int temp = arr[minIndex];\n",
    "            arr[minIndex] = arr[i];\n",
    "            arr[i] = temp;\n",
    "        }\n",
    "    }\n",
    "\n",
    "    // Merge Sort algorithm\n",
    "    static void mergeSort(int[] arr, int low, int high) {\n",
    "        if (low < high) {\n",
    "            int mid = (low + high) / 2;\n",
    "            mergeSort(arr, low, mid); // Sort left half\n",
    "            mergeSort(arr, mid + 1, high); // Sort right half\n",
    "            merge(arr, low, mid, high); // Merge sorted halves\n",
    "        }\n",
    "    }\n",
    "\n",
    "    // Helper method to merge two sorted subarrays\n",
    "    static void merge(int[] arr, int low, int mid, int high) {\n",
    "        int n1 = mid - low + 1;\n",
    "        int n2 = high - mid;\n",
    "        int[] left = new int[n1];\n",
    "        int[] right = new int[n2];\n",
    "        for (int i = 0; i < n1; i++) {\n",
    "            left[i] = arr[low + i];\n",
    "        }\n",
    "        for (int j = 0; j < n2; j++) {\n",
    "            right[j] = arr[mid + 1 + j];\n",
    "        }\n",
    "        int i = 0, j = 0, k = low;\n",
    "        while (i < n1 && j < n2) {\n",
    "            if (left[i] <= right[j]) {\n",
    "                arr[k++] = left[i++];\n",
    "            } else {\n",
    "                arr[k++] = right[j++];\n",
    "            }\n",
    "        }\n",
    "        while (i < n1) {\n",
    "            arr[k++] = left[i++];\n",
    "        }\n",
    "        while (j < n2) {\n",
    "            arr[k++] = right[j++];\n",
    "        }\n",
    "    }\n",
    "\n",
    "    public static void main(String[] args) {\n",
    "        int[] arr = {64, 34, 25, 12, 22, 11, 90};\n",
    "\n",
    "        // Linear Search\n",
    "        int linearResult = linearSearch(arr, 25);\n",
    "        System.out.println(\"Linear Search: Index of 25 is \" + linearResult);\n",
    "\n",
    "        // Binary Search (requires sorted array)\n",
    "        mergeSort(arr, 0, arr.length - 1); // Sorting array before performing binary search\n",
    "        int binaryResult = binarySearch(arr, 25, 0, arr.length - 1);\n",
    "        System.out.println(\"Binary Search: Index of 25 is \" + binaryResult);\n",
    "\n",
    "        // Selection Sort\n",
    "        selectionSort(arr);\n",
    "        System.out.println(\"Selection Sort: Sorted array is \" + Arrays.toString(arr));\n",
    "\n",
    "        // Merge Sort (using the sorted array from selection sort)\n",
    "        mergeSort(arr, 0, arr.length - 1);\n",
    "        System.out.println(\"Merge Sort: Sorted array is \" + Arrays.toString(arr));\n",
    "    }\n",
    "}\n",
    "\n",
    "SearchAndSortExample.main(null);"
   ]
  }
 ],
 "metadata": {
  "kernelspec": {
   "display_name": "Java",
   "language": "java",
   "name": "java"
  },
  "language_info": {
   "codemirror_mode": "java",
   "file_extension": ".jshell",
   "mimetype": "text/x-java-source",
   "name": "Java",
   "pygments_lexer": "java",
   "version": "17.0.5+9-LTS-191"
  }
 },
 "nbformat": 4,
 "nbformat_minor": 2
}

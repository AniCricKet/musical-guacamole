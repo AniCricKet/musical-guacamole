{
 "cells": [
  {
   "cell_type": "markdown",
   "metadata": {},
   "source": [
    "---\n",
    "toc: true\n",
    "comments: true\n",
    "layout: post\n",
    "title: FRQ Number 3 - Array/Array List\n",
    "description: A guide featuring an example of a past FRQ problem to show how to approach and solve and array FRQ problem.\n",
    "type: hacks\n",
    "courses: {csa: {week: 5}}\n",
    "---"
   ]
  },
  {
   "cell_type": "markdown",
   "metadata": {},
   "source": [
    "<img width=\"688\" alt=\"image\" src=\"https://github.com/AniCricKet/automatic-spork/assets/91163802/55e3d742-62c1-4bc1-939d-e024f2db9f3a\">\n",
    "<img width=\"688\" alt=\"Screenshot 2023-09-20 at 12 49 59 PM\" src=\"https://github.com/AniCricKet/automatic-spork/assets/91163802/712d9297-c2cd-4b5b-9250-f663b03c03ce\">"
   ]
  }
 ],
 "metadata": {
  "language_info": {
   "name": "python"
  },
  "orig_nbformat": 4
 },
 "nbformat": 4,
 "nbformat_minor": 2
}

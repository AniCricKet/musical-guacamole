{
 "cells": [
  {
   "cell_type": "markdown",
   "metadata": {},
   "source": [
    "---\n",
    "toc: true\n",
    "comments: true\n",
    "layout: post\n",
    "title: FRQ Number 3 - Array/Array List\n",
    "description: A guide featuring an FRQ question from the 2015 AP CSA to show how to approach and solve and array FRQ problem.\n",
    "type: hacks\n",
    "courses: {csa: {week: 5}}\n",
    "---"
   ]
  },
  {
   "cell_type": "markdown",
   "metadata": {},
   "source": [
    "* [Link to Full Test](https://secure-media.collegeboard.org/digitalServices/pdf/ap/ap15_frq_computer_science_a.pdf)\n",
    "\n",
    "# Part A:\n",
    "\n",
    "<img width=\"700\" alt=\"image\" src=\"https://github.com/AniCricKet/automatic-spork/assets/91163802/55e3d742-62c1-4bc1-939d-e024f2db9f3a\">\n",
    "<img width=\"700\" alt=\"Screenshot 2023-09-20 at 12 49 59 PM\" src=\"https://github.com/AniCricKet/automatic-spork/assets/91163802/712d9297-c2cd-4b5b-9250-f663b03c03ce\">\n",
    "\n",
    "To code a Java static method called arraySum for calculating the sum of entries in a specified one-dimensional array, I would start by defining the method within a Java class. The method would take an integer array as a parameter. Inside the method, I would initialize a variable, such as sum, to zero. Then, I'd use a for loop to iterate through the elements of the input array, adding each element's value to the sum in each iteration. After processing all the elements, I would return the sum as the result. Next, I would create a main method or use an existing one to demonstrate the usage of the arraySum method. Inside main, I would declare an example array (in this case, arr1) with the provided data. Finally, I would call the arraySum method with arr1 as an argument and print the returned sum to the console using System.out.println. This approach would allow the code to calculate and display the sum of the elements in the arr1 array, as specified in the prompt."
   ]
  },
  {
   "cell_type": "code",
   "execution_count": 1,
   "metadata": {
    "vscode": {
     "languageId": "java"
    }
   },
   "outputs": [],
   "source": [
    "public class ArraySumCalculator {\n",
    "\n",
    "    // This is a static method that calculates and returns the sum of elements in an integer array.\n",
    "    public static int arraySum(int[] arr) {\n",
    "        int sum = 0; // Initialize a variable to store the sum of elements, starting at zero.\n",
    "        for (int i = 0; i < arr.length; i++) {\n",
    "            // Iterate through the elements of the input array.\n",
    "            sum += arr[i]; // Add the current element to the sum.\n",
    "        }\n",
    "        return sum; // Return the calculated sum as the result.\n",
    "    }\n",
    "\n",
    "    public static void main(String[] args) {\n",
    "        int[] arr1 = {1, 3, 2, 7, 3}; // Declare and initialize an example array with data.\n",
    "        int sum = arraySum(arr1); // Call the arraySum method to calculate the sum of elements in arr1.\n",
    "        System.out.println(\"Sum of the elements in arr1: \" + sum); // Print the result to the console.\n",
    "    }\n",
    "}"
   ]
  },
  {
   "cell_type": "markdown",
   "metadata": {},
   "source": [
    "# Part B:\n",
    "\n",
    "<img width=\"700\" alt=\"Screenshot 2023-09-20 at 12 51 23 PM\" src=\"https://github.com/AniCricKet/automatic-spork/assets/91163802/7efb2626-1264-4c56-a9d4-593948849349\">\n",
    "<img width=\"700\" alt=\"Screenshot 2023-09-20 at 12 51 42 PM\" src=\"https://github.com/AniCricKet/automatic-spork/assets/91163802/50d1d370-c827-4ff8-9d4f-fc3d499a45eb\">\n"
   ]
  },
  {
   "cell_type": "markdown",
   "metadata": {},
   "source": [
    "# Part 3:\n",
    "\n",
    "<img width=\"700\" alt=\"Screenshot 2023-09-20 at 12 53 49 PM\" src=\"https://github.com/AniCricKet/automatic-spork/assets/91163802/78aa9d2f-9c1c-40f7-b714-f88e12dc6a12\">\n",
    "<img width=\"700\" alt=\"Screenshot 2023-09-20 at 12 54 08 PM\" src=\"https://github.com/AniCricKet/automatic-spork/assets/91163802/6045de5d-7778-4c06-baf4-a60c910e6d86\">\n"
   ]
  }
 ],
 "metadata": {
  "kernelspec": {
   "display_name": "Java",
   "language": "java",
   "name": "java"
  },
  "language_info": {
   "codemirror_mode": "java",
   "file_extension": ".jshell",
   "mimetype": "text/x-java-source",
   "name": "Java",
   "pygments_lexer": "java",
   "version": "17.0.5+9-LTS-191"
  },
  "orig_nbformat": 4
 },
 "nbformat": 4,
 "nbformat_minor": 2
}

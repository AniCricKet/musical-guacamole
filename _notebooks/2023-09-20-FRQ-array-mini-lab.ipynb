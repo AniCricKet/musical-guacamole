{
 "cells": [
  {
   "cell_type": "markdown",
   "metadata": {},
   "source": [
    "---\n",
    "toc: true\n",
    "comments: true\n",
    "layout: post\n",
    "title: FRQ Number 3 - Array/Array List\n",
    "description: A guide featuring an FRQ question from the 2015 AP CSA to show how to approach and solve and array FRQ problem.\n",
    "type: hacks\n",
    "courses: {csa: {week: 5}}\n",
    "---"
   ]
  },
  {
   "cell_type": "markdown",
   "metadata": {},
   "source": [
    "* [Link to Full Test](https://secure-media.collegeboard.org/digitalServices/pdf/ap/ap15_frq_computer_science_a.pdf)\n",
    "\n",
    "# Part A:\n",
    "\n",
    "<img width=\"700\" alt=\"image\" src=\"https://github.com/AniCricKet/automatic-spork/assets/91163802/55e3d742-62c1-4bc1-939d-e024f2db9f3a\">\n",
    "<img width=\"700\" alt=\"Screenshot 2023-09-20 at 12 49 59 PM\" src=\"https://github.com/AniCricKet/automatic-spork/assets/91163802/712d9297-c2cd-4b5b-9250-f663b03c03ce\">"
   ]
  },
  {
   "cell_type": "code",
   "execution_count": 1,
   "metadata": {
    "vscode": {
     "languageId": "java"
    }
   },
   "outputs": [],
   "source": [
    "public class ArraySumCalculator {\n",
    "\n",
    "    public static int arraySum(int[] arr) {\n",
    "        int sum = 0;\n",
    "        for (int i = 0; i < arr.length; i++) {\n",
    "            sum += arr[i];\n",
    "        }\n",
    "        return sum;\n",
    "    }\n",
    "\n",
    "    public static void main(String[] args) {\n",
    "        int[] arr1 = {1, 3, 2, 7, 3};\n",
    "        int sum = arraySum(arr1);\n",
    "        System.out.println(\"Sum of the elements in arr1: \" + sum);\n",
    "    }\n",
    "}"
   ]
  },
  {
   "cell_type": "markdown",
   "metadata": {},
   "source": [
    "# Part B:\n",
    "\n",
    "<img width=\"700\" alt=\"Screenshot 2023-09-20 at 12 51 23 PM\" src=\"https://github.com/AniCricKet/automatic-spork/assets/91163802/7efb2626-1264-4c56-a9d4-593948849349\">\n",
    "<img width=\"700\" alt=\"Screenshot 2023-09-20 at 12 51 42 PM\" src=\"https://github.com/AniCricKet/automatic-spork/assets/91163802/50d1d370-c827-4ff8-9d4f-fc3d499a45eb\">\n"
   ]
  },
  {
   "cell_type": "markdown",
   "metadata": {},
   "source": [
    "# Part 3:\n",
    "\n",
    "<img width=\"700\" alt=\"Screenshot 2023-09-20 at 12 53 49 PM\" src=\"https://github.com/AniCricKet/automatic-spork/assets/91163802/78aa9d2f-9c1c-40f7-b714-f88e12dc6a12\">\n",
    "<img width=\"700\" alt=\"Screenshot 2023-09-20 at 12 54 08 PM\" src=\"https://github.com/AniCricKet/automatic-spork/assets/91163802/6045de5d-7778-4c06-baf4-a60c910e6d86\">\n"
   ]
  }
 ],
 "metadata": {
  "kernelspec": {
   "display_name": "Java",
   "language": "java",
   "name": "java"
  },
  "language_info": {
   "codemirror_mode": "java",
   "file_extension": ".jshell",
   "mimetype": "text/x-java-source",
   "name": "Java",
   "pygments_lexer": "java",
   "version": "17.0.5+9-LTS-191"
  },
  "orig_nbformat": 4
 },
 "nbformat": 4,
 "nbformat_minor": 2
}

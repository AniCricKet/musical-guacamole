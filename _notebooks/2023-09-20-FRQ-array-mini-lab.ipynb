{
 "cells": [
  {
   "cell_type": "markdown",
   "metadata": {},
   "source": [
    "---\n",
    "toc: true\n",
    "comments: true\n",
    "layout: post\n",
    "title: FRQ Number 3 - Array/Array List\n",
    "description: A guide featuring an FRQ question from the 2015 AP CSA to show how to approach and solve and array FRQ problem.\n",
    "type: hacks\n",
    "courses: {csa: {week: 5}}\n",
    "---"
   ]
  },
  {
   "cell_type": "markdown",
   "metadata": {},
   "source": [
    "[Link to Full Test](https://secure-media.collegeboard.org/digitalServices/pdf/ap/ap15_frq_computer_science_a.pdf)\n",
    "\n",
    "# Part A:\n",
    "\n",
    "<img width=\"700\" alt=\"image\" src=\"https://github.com/AniCricKet/automatic-spork/assets/91163802/55e3d742-62c1-4bc1-939d-e024f2db9f3a\">\n",
    "<img width=\"700\" alt=\"Screenshot 2023-09-20 at 12 49 59 PM\" src=\"https://github.com/AniCricKet/automatic-spork/assets/91163802/712d9297-c2cd-4b5b-9250-f663b03c03ce\">"
   ]
  },
  {
   "cell_type": "markdown",
   "metadata": {},
   "source": [
    "# Part B:\n",
    "\n",
    "<img width=\"700\" alt=\"Screenshot 2023-09-20 at 12 51 23 PM\" src=\"https://github.com/AniCricKet/automatic-spork/assets/91163802/7efb2626-1264-4c56-a9d4-593948849349\">\n",
    "<img width=\"700\" alt=\"Screenshot 2023-09-20 at 12 51 42 PM\" src=\"https://github.com/AniCricKet/automatic-spork/assets/91163802/50d1d370-c827-4ff8-9d4f-fc3d499a45eb\">\n"
   ]
  },
  {
   "cell_type": "markdown",
   "metadata": {},
   "source": [
    "# Part 3:\n",
    "\n",
    "<img width=\"700\" alt=\"Screenshot 2023-09-20 at 12 53 49 PM\" src=\"https://github.com/AniCricKet/automatic-spork/assets/91163802/78aa9d2f-9c1c-40f7-b714-f88e12dc6a12\">\n",
    "<img width=\"700\" alt=\"Screenshot 2023-09-20 at 12 54 08 PM\" src=\"https://github.com/AniCricKet/automatic-spork/assets/91163802/6045de5d-7778-4c06-baf4-a60c910e6d86\">\n"
   ]
  }
 ],
 "metadata": {
  "language_info": {
   "name": "python"
  },
  "orig_nbformat": 4
 },
 "nbformat": 4,
 "nbformat_minor": 2
}

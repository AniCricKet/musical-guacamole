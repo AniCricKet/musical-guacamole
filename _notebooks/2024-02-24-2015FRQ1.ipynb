{
 "cells": [
  {
   "cell_type": "markdown",
   "metadata": {},
   "source": [
    "---\n",
    "title: 2015 Practice FRQ Question 1\n",
    "description: Analysis and breakdown of Question 1 from the 2015 AP Exam\n",
    "toc: true\n",
    "layout: post\n",
    "comments: true\n",
    "courses: { csa: {week: 24} }\n",
    "permalink: /2015frq1\n",
    "---"
   ]
  },
  {
   "cell_type": "markdown",
   "metadata": {},
   "source": [
    "# Question breakdown and approach: \n",
    "\n",
    "This question involves creating three static methods in a class named DiverseArray. The first method, arraySum calculates the sum of entries in a specified one-dimensional array. The second method, rowSums, calculates sums of each row in a given two-dimensional array and returns these sums in a one-dimensional array. The third method, isDiverse, determines if a given two-dimensional array is diverse, meaning no two rows have the same sum. Approach: (a) For arraySum, you need to iterate through the one-dimensional array and calculate the sum of its entries. (b) For rowSums, use the arraySum method appropriately. Iterate through each row of the two-dimensional array and use arraySum to calculate the sum of each row.(c) For isDiverse, use rowSums appropriately. Calculate the row sums for the given two-dimensional array and check if all row sums are unique, returning true if they are and false otherwise."
   ]
  }
 ],
 "metadata": {
  "language_info": {
   "name": "python"
  }
 },
 "nbformat": 4,
 "nbformat_minor": 2
}

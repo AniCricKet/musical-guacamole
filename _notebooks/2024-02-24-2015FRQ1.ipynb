{
 "cells": [
  {
   "cell_type": "markdown",
   "metadata": {},
   "source": [
    "---\n",
    "title: 2015 Practice FRQ Question 1\n",
    "description: Analysis and breakdown of Question 1 from the 2015 AP Exam\n",
    "toc: true\n",
    "layout: post\n",
    "comments: true\n",
    "courses: { csa: {week: 24} }\n",
    "permalink: /2015frq1\n",
    "---"
   ]
  },
  {
   "cell_type": "markdown",
   "metadata": {},
   "source": [
    "# Question 1: ARRAYS/ARRAYLISTS\n",
    "\n",
    "<img width=\"1143\" alt=\"image\" src=\"https://github.com/AniCricKet/musical-guacamole/assets/91163802/6ab92a3e-70c1-4603-86e1-9c99439aa0b3\">\n",
    "\n",
    "# Question breakdown and approach: \n",
    "\n",
    "This question involves creating three static methods in a class named DiverseArray. The first method, arraySum calculates the sum of entries in a specified one-dimensional array. The second method, rowSums, calculates sums of each row in a given two-dimensional array and returns these sums in a one-dimensional array. The third method, isDiverse, determines if a given two-dimensional array is diverse, meaning no two rows have the same sum. Approach: (a) For arraySum, you need to iterate through the one-dimensional array and calculate the sum of its entries. (b) For rowSums, use the arraySum method appropriately. Iterate through each row of the two-dimensional array and use arraySum to calculate the sum of each row.(c) For isDiverse, use rowSums appropriately. Calculate the row sums for the given two-dimensional array and check if all row sums are unique, returning true if they are and false otherwise.\n",
    "\n",
    "\n",
    "## Part A:\n",
    "Write a static method arraySum that calculates and returns the sum of the entries in a specified one-dimensional array. The following example shows an array arr1 and the value returned by a call to arraySum.\n"
   ]
  },
  {
   "cell_type": "code",
   "execution_count": 1,
   "metadata": {},
   "outputs": [
    {
     "name": "stdout",
     "output_type": "stream",
     "text": [
      "Sum of array elements: 15\n"
     ]
    }
   ],
   "source": [
    "public class ArraySum {\n",
    "\n",
    "    public static void main(String[] args) {\n",
    "        // Example usage:\n",
    "        int[] arr1 = {1, 2, 3, 4, 5};\n",
    "        int sum = arraySum(arr1);\n",
    "        System.out.println(\"Sum of array elements: \" + sum);\n",
    "    }\n",
    "\n",
    "    public static int arraySum(int[] arr) {\n",
    "        int sum = 0;\n",
    "        for (int i = 0; i < arr.length; i++) {\n",
    "            sum += arr[i];\n",
    "        }\n",
    "        return sum;\n",
    "    }\n",
    "}\n",
    "\n",
    "ArraySum.main(null);"
   ]
  },
  {
   "cell_type": "markdown",
   "metadata": {},
   "source": [
    "## PART B: \n",
    "\n",
    "Write a static method rowSums that calculates the sums of each of the rows in a given two-dimensional array and returns these sums in a one-dimensional array. The method has one parameter, a two-dimensional array arr2D of int values. The array is in row-major order: arr2D [r] [c] is the entry at row r and column c. The method returns a one-dimensional array with one entry for each row of arr2D such that each entry is the sum of the corresponding row in arr2D. As a reminder, each row of a two-dimensional array is a one-dimensional array."
   ]
  },
  {
   "cell_type": "code",
   "execution_count": 2,
   "metadata": {},
   "outputs": [
    {
     "name": "stdout",
     "output_type": "stream",
     "text": [
      "Sum of row 0: 6\n",
      "Sum of row 1: 15\n",
      "Sum of row 2: 24\n"
     ]
    }
   ],
   "source": [
    "public class RowSums {\n",
    "\n",
    "    public static void main(String[] args) {\n",
    "        // Example usage:\n",
    "        int[][] arr2D = {\n",
    "            {1, 2, 3},\n",
    "            {4, 5, 6},\n",
    "            {7, 8, 9}\n",
    "        };\n",
    "\n",
    "        int[] rowSums = rowSums(arr2D);\n",
    "        for (int i = 0; i < rowSums.length; i++) {\n",
    "            System.out.println(\"Sum of row \" + i + \": \" + rowSums[i]);\n",
    "        }\n",
    "    }\n",
    "\n",
    "    public static int[] rowSums(int[][] arr2D) {\n",
    "        int numRows = arr2D.length;\n",
    "        int[] rowSums = new int[numRows];\n",
    "\n",
    "        for (int i = 0; i < numRows; i++) {\n",
    "            for (int j = 0; j < arr2D[i].length; j++) {\n",
    "                rowSums[i] += arr2D[i][j];\n",
    "            }\n",
    "        }\n",
    "\n",
    "        return rowSums;\n",
    "    }\n",
    "}\n",
    "\n",
    "RowSums.main(null);"
   ]
  },
  {
   "cell_type": "markdown",
   "metadata": {},
   "source": [
    "## PART C: \n",
    "A two-dimensional array is diverse if no two of its rows have entries that sum to the same value. In the following examples, the array mat1 is diverse because each row sum is different, but the array mat2 is not diverse because the first and last rows have the same sum. Write a static method isDiverse that determines whether or not a given two-dimensional array is diverse. The method has one parameter: a two-dimensional array arr2D of int values. The method should return true if all the row sums in the given array are unique; otherwise, it should return false. In the arrays shown above, the call isDiverse (mat1) returns true and the call isDiverse(mat2) returns false."
   ]
  },
  {
   "cell_type": "code",
   "execution_count": 3,
   "metadata": {},
   "outputs": [
    {
     "name": "stdout",
     "output_type": "stream",
     "text": [
      "mat1 is diverse: true\n",
      "mat2 is diverse: false\n"
     ]
    }
   ],
   "source": [
    "import java.util.Arrays;\n",
    "\n",
    "public class Main {\n",
    "    public static void main(String[] args) {\n",
    "        int[][] mat1 = {\n",
    "            {1, 3, 2},\n",
    "            {4, 3, 1},\n",
    "            {2, 1, 4}\n",
    "        };\n",
    "        \n",
    "        int[][] mat2 = {\n",
    "            {1, 3, 2},\n",
    "            {4, 3, 1},\n",
    "            {1, 3, 2}\n",
    "        };\n",
    "        System.out.println(\"mat1 is diverse: \" + isDiverse(mat1)); // true\n",
    "        System.out.println(\"mat2 is diverse: \" + isDiverse(mat2)); // false\n",
    "    }\n",
    "    public static boolean isDiverse(int[][] arr2D) {\n",
    "        int[] rowSums = rowSums(arr2D);\n",
    "        Arrays.sort(rowSums);\n",
    "        for (int i = 0; i < rowSums.length - 1; i++) {\n",
    "            if (rowSums[i] == rowSums[i + 1]) {\n",
    "                return false;\n",
    "            }\n",
    "        }\n",
    "        \n",
    "        return true; \n",
    "    }\n",
    "    public static int[] rowSums(int[][] arr2D) {\n",
    "        int numRows = arr2D.length; \n",
    "        int[] sums = new int[numRows];\n",
    "\n",
    "        for (int i = 0; i < numRows; i++) {\n",
    "            sums[i] = arraySum(arr2D[i]);\n",
    "        }\n",
    "\n",
    "        return sums; \n",
    "    }\n",
    "    public static int arraySum(int[] arr) {\n",
    "        int sum = 0;\n",
    "        for (int i = 0; i < arr.length; i++) {\n",
    "            sum += arr[i];\n",
    "        }\n",
    "        return sum;\n",
    "    }\n",
    "}\n",
    "\n",
    "Main.main(null);"
   ]
  },
  {
   "cell_type": "markdown",
   "metadata": {},
   "source": [
    "### Summary: \n",
    "\n",
    "In this question, the task was to implement a series of static methods that operate on both one dimensional and two dimensional arrays. Part (a) focused on creating a static method, `arraySum`, to calculate and return the sum of entries in a 1D array. Part (b) used a method, `rowSums`, to calculate the sums of each row in a 2D array and return them in a 1D array. Finally, part (c) required a new method, `isDiverse`, to determine if a given 2D array is diverse, meaning that no two rows have the same sum. I think I understood this FRQ pretty well as I've spent a lot of time studying Arrays and Array lists, when I examined some pretty similar questions during the FRQ Mini-lab earlier this year."
   ]
  }
 ],
 "metadata": {
  "kernelspec": {
   "display_name": "Java",
   "language": "java",
   "name": "java"
  },
  "language_info": {
   "codemirror_mode": "java",
   "file_extension": ".jshell",
   "mimetype": "text/x-java-source",
   "name": "java",
   "pygments_lexer": "java",
   "version": "17.0.5+9-LTS-191"
  }
 },
 "nbformat": 4,
 "nbformat_minor": 2
}

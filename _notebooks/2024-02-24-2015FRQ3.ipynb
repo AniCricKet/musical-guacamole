{
 "cells": [
  {
   "cell_type": "markdown",
   "metadata": {},
   "source": [
    "---\n",
    "title: 2015 Practice FRQ Question 3\n",
    "description: Analysis and breakdown of Question 3 from the 2015 AP Exam\n",
    "toc: true\n",
    "layout: post\n",
    "comments: true\n",
    "courses: { csa: {week: 24} }\n",
    "permalink: /2015frq3\n",
    "---"
   ]
  },
  {
   "cell_type": "markdown",
   "metadata": {},
   "source": [
    "# Question breakdown and approach: \n",
    "\n",
    "This question involves implementing two methods for a SparseArray class, which represents a sparse array using a list of SparseArrayEntry objects. The SparseArrayEntry class represents non-zero elements in the sparse array with their row and column indexes. The methods to be implemented are as follows: (a) Write the getValueAt method in the SparseArray class, which returns the value of the sparse array element at a given row and column. If an entry with the specified row and column exists in the list of entries, the method returns the associated value. Otherwise, it returns 0. (b) Write the removeColumn method in the SparseArray class, which removes a specified column from the sparse array. The method should remove all entries in the list with column indexes matching the specified column, adjust the column indexes greater than the specified column, and update the number of columns in the sparse array. Approach: (a) For getValueAt, iterate through the list of entries and check if there is an entry with the specified row and column. Return the associated value if found, otherwise return 0. (b) For removeColumn, iterate through the list of entries and remove entries with the specified column. Adjust the column indexes greater than the specified column by decrementing them. Update the number of columns in the sparse array."
   ]
  }
 ],
 "metadata": {
  "language_info": {
   "name": "python"
  }
 },
 "nbformat": 4,
 "nbformat_minor": 2
}
